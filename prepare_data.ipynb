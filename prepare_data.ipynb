{
 "cells": [
  {
   "cell_type": "code",
   "execution_count": 1,
   "metadata": {},
   "outputs": [],
   "source": [
    "function scandir(directory)\n",
    "    local i, t, popen = 0, {}, io.popen\n",
    "    local pfile = popen('ls '..directory)\n",
    "    for filename in pfile:lines() do\n",
    "        i = i + 1\n",
    "        t[i] = filename\n",
    "    end\n",
    "    pfile:close()\n",
    "    return t\n",
    "end"
   ]
  },
  {
   "cell_type": "code",
   "execution_count": 2,
   "metadata": {},
   "outputs": [],
   "source": [
    "clothes = scandir('LOOKBOOK/*CLEAN1*')"
   ]
  },
  {
   "cell_type": "code",
   "execution_count": 3,
   "metadata": {},
   "outputs": [],
   "source": [
    "function scandir2(directory, name)\n",
    "    local i, t, popen = 0, {}, io.popen\n",
    "    local pfile = popen('find '..directory..' -name '..name..' | sort')\n",
    "    for filename in pfile:lines() do\n",
    "        i = i + 1\n",
    "        t[i] = filename\n",
    "    end\n",
    "    pfile:close()\n",
    "    return t\n",
    "end"
   ]
  },
  {
   "cell_type": "code",
   "execution_count": 4,
   "metadata": {},
   "outputs": [],
   "source": [
    "models = scandir2('LOOKBOOK', '*CLEAN0*')"
   ]
  },
  {
   "cell_type": "code",
   "execution_count": 5,
   "metadata": {},
   "outputs": [],
   "source": [
    "function tablelength(T)\n",
    "  local count = 0\n",
    "  for _ in pairs(T) do count = count + 1 end\n",
    "  return count\n",
    "end"
   ]
  },
  {
   "cell_type": "code",
   "execution_count": 6,
   "metadata": {},
   "outputs": [
    {
     "data": {
      "text/plain": [
       "0\t\n",
       "0\t\n"
      ]
     },
     "execution_count": 6,
     "metadata": {},
     "output_type": "execute_result"
    }
   ],
   "source": [
    "local nmodels = tablelength(models)\n",
    "local nclothes = tablelength(clothes)\n",
    "local i, j = 1,1\n",
    "print(nclothes)\n",
    "print(nmodels)\n",
    "\n",
    "match = {}\n",
    "\n",
    "while ((i<=nclothes) and (j<nmodels)) do\n",
    "    pos = string.find(clothes[i], 'PID')\n",
    "    pid = string.sub(clothes[i], pos, pos + 8)\n",
    "    k = 1\n",
    "    match[i] = {}\n",
    "    -- print(models[j], pid)\n",
    "    while ((j<nmodels) and (string.find(models[j], pid) ~= nil)) do\n",
    "        \n",
    "        match[i][k] = models[j]\n",
    "        j = j + 1\n",
    "        k = k + 1\n",
    "    end\n",
    "\n",
    "    i = i + 1\n",
    "end"
   ]
  },
  {
   "cell_type": "code",
   "execution_count": 7,
   "metadata": {},
   "outputs": [],
   "source": [
    "torch.save('cloth_table.t7', clothes)\n",
    "torch.save('models_table.t7', match)"
   ]
  },
  {
   "cell_type": "code",
   "execution_count": null,
   "metadata": {},
   "outputs": [],
   "source": []
  },
  {
   "cell_type": "code",
   "execution_count": null,
   "metadata": {},
   "outputs": [],
   "source": []
  }
 ],
 "metadata": {
  "anaconda-cloud": {},
  "kernelspec": {
   "display_name": "iTorch",
   "language": "lua",
   "name": "itorch"
  },
  "language_info": {
   "name": "lua",
   "version": "5.1"
  }
 },
 "nbformat": 4,
 "nbformat_minor": 1
}
